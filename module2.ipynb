{
 "cells": [
  {
   "attachments": {},
   "cell_type": "markdown",
   "metadata": {},
   "source": [
    "# MCBDD Module II"
   ]
  },
  {
   "attachments": {},
   "cell_type": "markdown",
   "metadata": {},
   "source": [
    "### Step 1: Retrieve all approved drugs from the ChEMBL database, sort them by approval year and name"
   ]
  },
  {
   "cell_type": "code",
   "execution_count": 1,
   "metadata": {},
   "outputs": [],
   "source": [
    "from chembl_webresource_client.new_client import new_client\n",
    "import numpy as np\n",
    "import pandas as pd\n",
    "import matplotlib.pyplot as plt\n",
    "import seaborn as sns\n",
    "from collections import Counter\n",
    "import requests\n",
    "import json"
   ]
  },
  {
   "cell_type": "code",
   "execution_count": 2,
   "metadata": {},
   "outputs": [
    {
     "name": "stdout",
     "output_type": "stream",
     "text": [
      "4194\n"
     ]
    }
   ],
   "source": [
    "molecules = new_client.molecule\n",
    "approved = molecules.filter(max_phase=4).order_by('first_approval','pref_name')\n",
    "print(len(approved))\n",
    "\n",
    "# for key, val in approved[0].items():\n",
    "#     print (key, val)\n",
    "# for i in range(50):\n",
    "#     print(approved[i]['first_approval'], approved[i]['pref_name'])"
   ]
  },
  {
   "attachments": {},
   "cell_type": "markdown",
   "metadata": {},
   "source": [
    "### Step 2: For each approved drug *since 2013* that you identified in step (1), retrieve a list of UniProt accession numbers, namely protein targets associated with the drug"
   ]
  },
  {
   "cell_type": "code",
   "execution_count": 3,
   "metadata": {},
   "outputs": [
    {
     "name": "stdout",
     "output_type": "stream",
     "text": [
      "49.0\n"
     ]
    }
   ],
   "source": [
    "approved_since_2013 = approved.filter(first_approval__gte=2013)\n",
    "molecule_chembl_ids = [drug['molecule_chembl_id'] for drug in approved_since_2013]\n",
    "activities = new_client.activity.filter(molecule_chembl_id__in=molecule_chembl_ids).only('molecule_chembl_id','target_chembl_id')\n",
    "activities_grouped = pd.DataFrame.from_dict(activities).groupby('molecule_chembl_id')\n",
    "\n",
    "target_ids = {}\n",
    "number_of_targets = []\n",
    "for name, group in activities_grouped:\n",
    "    target_ids[name] = group['target_chembl_id'].to_list()\n",
    "    number_of_targets.append(len(group['target_chembl_id']))\n",
    "\n",
    "print(np.median(number_of_targets))"
   ]
  },
  {
   "cell_type": "code",
   "execution_count": 4,
   "metadata": {},
   "outputs": [
    {
     "data": {
      "image/png": "[encoded data removed]",
      "text/plain": [
       "<Figure size 640x480 with 1 Axes>"
      ]
     },
     "metadata": {},
     "output_type": "display_data"
    }
   ],
   "source": [
    "sns.histplot(number_of_targets)\n",
    "plt.axvline(np.median(number_of_targets),c='r',label='median')\n",
    "plt.legend()\n",
    "plt.show()"
   ]
  },
  {
   "attachments": {},
   "cell_type": "markdown",
   "metadata": {},
   "source": [
    "### Step 3: for each protein with a UniProt accession number that you identified in step (2), retrieve UniProt keywords associated with it. Which keyword(s) is associated with most drugs approved since 2013?"
   ]
  },
  {
   "cell_type": "code",
   "execution_count": 5,
   "metadata": {},
   "outputs": [
    {
     "data": {
      "text/html": [
       "<div>\n",
       "<style scoped>\n",
       "    .dataframe tbody tr th:only-of-type {\n",
       "        vertical-align: middle;\n",
       "    }\n",
       "\n",
       "    .dataframe tbody tr th {\n",
       "        vertical-align: top;\n",
       "    }\n",
       "\n",
       "    .dataframe thead th {\n",
       "        text-align: right;\n",
       "    }\n",
       "</style>\n",
       "<table border=\"1\" class=\"dataframe\">\n",
       "  <thead>\n",
       "    <tr style=\"text-align: right;\">\n",
       "      <th></th>\n",
       "      <th>target_chembl_id</th>\n",
       "      <th>accession</th>\n",
       "      <th>occurrences</th>\n",
       "    </tr>\n",
       "  </thead>\n",
       "  <tbody>\n",
       "    <tr>\n",
       "      <th>0</th>\n",
       "      <td>CHEMBL2074</td>\n",
       "      <td>O43451</td>\n",
       "      <td>2</td>\n",
       "    </tr>\n",
       "    <tr>\n",
       "      <th>1</th>\n",
       "      <td>CHEMBL1827</td>\n",
       "      <td>O76074</td>\n",
       "      <td>8</td>\n",
       "    </tr>\n",
       "    <tr>\n",
       "      <th>2</th>\n",
       "      <td>CHEMBL1862</td>\n",
       "      <td>P00519</td>\n",
       "      <td>196</td>\n",
       "    </tr>\n",
       "    <tr>\n",
       "      <th>3</th>\n",
       "      <td>CHEMBL203</td>\n",
       "      <td>P00533</td>\n",
       "      <td>590</td>\n",
       "    </tr>\n",
       "    <tr>\n",
       "      <th>4</th>\n",
       "      <td>CHEMBL204</td>\n",
       "      <td>P00734</td>\n",
       "      <td>6</td>\n",
       "    </tr>\n",
       "    <tr>\n",
       "      <th>...</th>\n",
       "      <td>...</td>\n",
       "      <td>...</td>\n",
       "      <td>...</td>\n",
       "    </tr>\n",
       "    <tr>\n",
       "      <th>1410</th>\n",
       "      <td>CHEMBL4802033</td>\n",
       "      <td>P18266</td>\n",
       "      <td>1</td>\n",
       "    </tr>\n",
       "    <tr>\n",
       "      <th>1411</th>\n",
       "      <td>CHEMBL4804182</td>\n",
       "      <td>P17787</td>\n",
       "      <td>1</td>\n",
       "    </tr>\n",
       "    <tr>\n",
       "      <th>1412</th>\n",
       "      <td>CHEMBL4879497</td>\n",
       "      <td>Q8MKI5</td>\n",
       "      <td>1</td>\n",
       "    </tr>\n",
       "    <tr>\n",
       "      <th>1413</th>\n",
       "      <td>CHEMBL4879528</td>\n",
       "      <td>Q06124</td>\n",
       "      <td>1</td>\n",
       "    </tr>\n",
       "    <tr>\n",
       "      <th>1414</th>\n",
       "      <td>CHEMBL4888444</td>\n",
       "      <td>P11802</td>\n",
       "      <td>1</td>\n",
       "    </tr>\n",
       "  </tbody>\n",
       "</table>\n",
       "<p>1415 rows × 3 columns</p>\n",
       "</div>"
      ],
      "text/plain": [
       "     target_chembl_id accession  occurrences\n",
       "0          CHEMBL2074    O43451            2\n",
       "1          CHEMBL1827    O76074            8\n",
       "2          CHEMBL1862    P00519          196\n",
       "3           CHEMBL203    P00533          590\n",
       "4           CHEMBL204    P00734            6\n",
       "...               ...       ...          ...\n",
       "1410    CHEMBL4802033    P18266            1\n",
       "1411    CHEMBL4804182    P17787            1\n",
       "1412    CHEMBL4879497    Q8MKI5            1\n",
       "1413    CHEMBL4879528    Q06124            1\n",
       "1414    CHEMBL4888444    P11802            1\n",
       "\n",
       "[1415 rows x 3 columns]"
      ]
     },
     "execution_count": 5,
     "metadata": {},
     "output_type": "execute_result"
    }
   ],
   "source": [
    "target_id_list = []\n",
    "for _, val in target_ids.items():\n",
    "    for v in val:\n",
    "        target_id_list.append(v)\n",
    "target_id_counter = Counter(target_id_list)\n",
    "target_id_list = list(np.unique(target_id_list))\n",
    "\n",
    "target = new_client.target.filter(target_chembl_id__in=target_id_list).only('target_chembl_id','target_components__accession')\n",
    "target_chembl_ids = [target[i]['target_chembl_id'] for i in range(len(target))]\n",
    "accession = [target[i]['target_components'][0]['accession'] if len(target[i]['target_components']) > 0 else None for i in range(len(target))]\n",
    "occurrences = [target_id_counter[target_chembl_ids[i]] for i in range(len(target_chembl_ids))]\n",
    "\n",
    "target_df = pd.DataFrame({'target_chembl_id' : target_chembl_ids, 'accession' : accession, 'occurrences' : occurrences}).dropna().reset_index().drop(labels='index',axis=1)\n",
    "target_df"
   ]
  },
  {
   "cell_type": "code",
   "execution_count": 6,
   "metadata": {},
   "outputs": [],
   "source": [
    "keywords = {}\n",
    "for i in range(len(target_df)):\n",
    "    r = requests.get(\"https://www.ebi.ac.uk/proteins/api/proteins/\" + target_df.accession[i], headers={\"Accept\" : \"application/json\"})\n",
    "    if not r.ok:\n",
    "        r.raise_for_status()\n",
    "    try:\n",
    "        req = json.loads(r.text)\n",
    "        ks = req['keywords']\n",
    "    except:\n",
    "        continue\n",
    "    for k in ks:\n",
    "        if k['value'] in keywords:\n",
    "            keywords[k['value']] += target_df.occurrences[i]\n",
    "        else:\n",
    "            keywords[k['value']] = target_df.occurrences[i]\n"
   ]
  },
  {
   "cell_type": "code",
   "execution_count": 7,
   "metadata": {},
   "outputs": [
    {
     "data": {
      "text/html": [
       "<div>\n",
       "<style scoped>\n",
       "    .dataframe tbody tr th:only-of-type {\n",
       "        vertical-align: middle;\n",
       "    }\n",
       "\n",
       "    .dataframe tbody tr th {\n",
       "        vertical-align: top;\n",
       "    }\n",
       "\n",
       "    .dataframe thead th {\n",
       "        text-align: right;\n",
       "    }\n",
       "</style>\n",
       "<table border=\"1\" class=\"dataframe\">\n",
       "  <thead>\n",
       "    <tr style=\"text-align: right;\">\n",
       "      <th></th>\n",
       "      <th>keyword</th>\n",
       "      <th>occurrences</th>\n",
       "    </tr>\n",
       "  </thead>\n",
       "  <tbody>\n",
       "    <tr>\n",
       "      <th>0</th>\n",
       "      <td>Reference proteome</td>\n",
       "      <td>23255</td>\n",
       "    </tr>\n",
       "    <tr>\n",
       "      <th>1</th>\n",
       "      <td>3D-structure</td>\n",
       "      <td>19340</td>\n",
       "    </tr>\n",
       "    <tr>\n",
       "      <th>2</th>\n",
       "      <td>Phosphoprotein</td>\n",
       "      <td>19287</td>\n",
       "    </tr>\n",
       "    <tr>\n",
       "      <th>3</th>\n",
       "      <td>Nucleotide-binding</td>\n",
       "      <td>17206</td>\n",
       "    </tr>\n",
       "    <tr>\n",
       "      <th>4</th>\n",
       "      <td>ATP-binding</td>\n",
       "      <td>16658</td>\n",
       "    </tr>\n",
       "    <tr>\n",
       "      <th>5</th>\n",
       "      <td>Transferase</td>\n",
       "      <td>16125</td>\n",
       "    </tr>\n",
       "    <tr>\n",
       "      <th>6</th>\n",
       "      <td>Alternative splicing</td>\n",
       "      <td>15195</td>\n",
       "    </tr>\n",
       "    <tr>\n",
       "      <th>7</th>\n",
       "      <td>Kinase</td>\n",
       "      <td>15007</td>\n",
       "    </tr>\n",
       "    <tr>\n",
       "      <th>8</th>\n",
       "      <td>Membrane</td>\n",
       "      <td>13299</td>\n",
       "    </tr>\n",
       "    <tr>\n",
       "      <th>9</th>\n",
       "      <td>Cytoplasm</td>\n",
       "      <td>12203</td>\n",
       "    </tr>\n",
       "    <tr>\n",
       "      <th>10</th>\n",
       "      <td>Nucleus</td>\n",
       "      <td>9904</td>\n",
       "    </tr>\n",
       "    <tr>\n",
       "      <th>11</th>\n",
       "      <td>Serine/threonine-protein kinase</td>\n",
       "      <td>9607</td>\n",
       "    </tr>\n",
       "    <tr>\n",
       "      <th>12</th>\n",
       "      <td>Disease variant</td>\n",
       "      <td>9029</td>\n",
       "    </tr>\n",
       "    <tr>\n",
       "      <th>13</th>\n",
       "      <td>Cell membrane</td>\n",
       "      <td>8976</td>\n",
       "    </tr>\n",
       "    <tr>\n",
       "      <th>14</th>\n",
       "      <td>Metal-binding</td>\n",
       "      <td>7991</td>\n",
       "    </tr>\n",
       "    <tr>\n",
       "      <th>15</th>\n",
       "      <td>Transmembrane</td>\n",
       "      <td>7457</td>\n",
       "    </tr>\n",
       "    <tr>\n",
       "      <th>16</th>\n",
       "      <td>Transmembrane helix</td>\n",
       "      <td>7447</td>\n",
       "    </tr>\n",
       "    <tr>\n",
       "      <th>17</th>\n",
       "      <td>Ubl conjugation</td>\n",
       "      <td>7367</td>\n",
       "    </tr>\n",
       "    <tr>\n",
       "      <th>18</th>\n",
       "      <td>Acetylation</td>\n",
       "      <td>7294</td>\n",
       "    </tr>\n",
       "    <tr>\n",
       "      <th>19</th>\n",
       "      <td>Glycoprotein</td>\n",
       "      <td>6994</td>\n",
       "    </tr>\n",
       "  </tbody>\n",
       "</table>\n",
       "</div>"
      ],
      "text/plain": [
       "                            keyword  occurrences\n",
       "0                Reference proteome        23255\n",
       "1                      3D-structure        19340\n",
       "2                    Phosphoprotein        19287\n",
       "3                Nucleotide-binding        17206\n",
       "4                       ATP-binding        16658\n",
       "5                       Transferase        16125\n",
       "6              Alternative splicing        15195\n",
       "7                            Kinase        15007\n",
       "8                          Membrane        13299\n",
       "9                         Cytoplasm        12203\n",
       "10                          Nucleus         9904\n",
       "11  Serine/threonine-protein kinase         9607\n",
       "12                  Disease variant         9029\n",
       "13                    Cell membrane         8976\n",
       "14                    Metal-binding         7991\n",
       "15                    Transmembrane         7457\n",
       "16              Transmembrane helix         7447\n",
       "17                  Ubl conjugation         7367\n",
       "18                      Acetylation         7294\n",
       "19                     Glycoprotein         6994"
      ]
     },
     "execution_count": 7,
     "metadata": {},
     "output_type": "execute_result"
    }
   ],
   "source": [
    "keywords_df = pd.DataFrame(keywords,index=['occurrences']).transpose().reset_index().rename({'index':'keyword'},axis=1) \\\n",
    "    .sort_values(by=['occurrences','keyword'],ascending=[False,True]).reset_index().drop('index',axis=1)\n",
    "keywords_df[:20]"
   ]
  },
  {
   "attachments": {},
   "cell_type": "markdown",
   "metadata": {},
   "source": [
    "### What's your interpretation of the results?\n"
   ]
  },
  {
   "attachments": {},
   "cell_type": "markdown",
   "metadata": {},
   "source": [
    "Even though usually drugs are designed for a specific target, many have many more targets.\n",
    "The two most common keywords are non-structural but the most common structural keywords are \"phosphoprotein\", \"nucleotide-binding\", \"ATP-binding\", \"transferase\", \"alternative splicing\", and \"kinase\" from which target classes/pathways can be inferred, such as signalling and (co-)transcriptional processes."
   ]
  }
 ],
 "metadata": {
  "kernelspec": {
   "display_name": "cb",
   "language": "python",
   "name": "python3"
  },
  "language_info": {
   "codemirror_mode": {
    "name": "ipython",
    "version": 3
   },
   "file_extension": ".py",
   "mimetype": "text/x-python",
   "name": "python",
   "nbconvert_exporter": "python",
   "pygments_lexer": "ipython3",
   "version": "3.11.0"
  },
  "orig_nbformat": 4
 },
 "nbformat": 4,
 "nbformat_minor": 2
}
