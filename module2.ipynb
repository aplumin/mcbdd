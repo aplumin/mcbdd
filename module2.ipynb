{
 "cells": [
  {
   "attachments": {},
   "cell_type": "markdown",
   "metadata": {},
   "source": [
    "# Module 2"
   ]
  },
  {
   "attachments": {},
   "cell_type": "markdown",
   "metadata": {},
   "source": [
    "### Step 1: Retrieve all approved drugs from the ChEMBL database, sort them by approval year and name"
   ]
  },
  {
   "cell_type": "code",
   "execution_count": null,
   "metadata": {},
   "outputs": [],
   "source": [
    "# import sys\n",
    "# !{sys.executable} -m pip install chembl_webresource_client\n",
    "# !{sys.executable} -m pip install uniprot_tools"
   ]
  },
  {
   "cell_type": "code",
   "execution_count": null,
   "metadata": {},
   "outputs": [],
   "source": [
    "import numpy as np\n",
    "from chembl_webresource_client.new_client import new_client\n",
    "import uniprot as uni"
   ]
  },
  {
   "cell_type": "code",
   "execution_count": null,
   "metadata": {},
   "outputs": [],
   "source": [
    "molecules = new_client.molecule\n",
    "approved = molecules.filter(max_phase=4).order_by('first_approval','pref_name')\n",
    "print(len(approved))\n",
    "\n",
    "# for key, val in approved[0].items():\n",
    "#     print (key, val)\n",
    "# for i in range(50):\n",
    "#     print(approved[i]['first_approval'], approved[i]['pref_name'])"
   ]
  },
  {
   "attachments": {},
   "cell_type": "markdown",
   "metadata": {},
   "source": [
    "### Step 2: For each approved drug *since 2013* that you identified in step (1), retrieve a list of UniProt accession numbers, namely protein targets associated with the drug"
   ]
  },
  {
   "cell_type": "code",
   "execution_count": null,
   "metadata": {},
   "outputs": [],
   "source": [
    "approved_since_2013 = approved.filter(first_approval__gte=2013)\n",
    "molecule_chembl_ids = [drug['molecule_chembl_id'] for drug in approved_since_2013]\n",
    "activities = new_client.activity.filter(molecule_chembl_ids__in=molecule_chembl_ids)\n",
    "\n",
    "protein_targets = {}\n",
    "number_of_targets = []\n",
    "for id in molecule_chembl_ids:\n",
    "    targets = activities.filter(molecule_chembl_id=id)\n",
    "    protein_targets[id] = [t['target_chembl_id'] for t in targets]\n",
    "    number_of_targets.append(len(targets))\n",
    "\n",
    "print(number_of_targets)\n",
    "print(np.median(number_of_targets))"
   ]
  },
  {
   "cell_type": "code",
   "execution_count": null,
   "metadata": {},
   "outputs": [],
   "source": []
  }
 ],
 "metadata": {
  "kernelspec": {
   "display_name": "cb",
   "language": "python",
   "name": "python3"
  },
  "language_info": {
   "codemirror_mode": {
    "name": "ipython",
    "version": 3
   },
   "file_extension": ".py",
   "mimetype": "text/x-python",
   "name": "python",
   "nbconvert_exporter": "python",
   "pygments_lexer": "ipython3",
   "version": "3.11.0"
  },
  "orig_nbformat": 4
 },
 "nbformat": 4,
 "nbformat_minor": 2
}
